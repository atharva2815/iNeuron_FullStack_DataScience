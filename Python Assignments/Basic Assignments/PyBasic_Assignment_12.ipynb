{
 "cells": [
  {
   "cell_type": "markdown",
   "id": "36492742",
   "metadata": {},
   "source": [
    "# Assignment 12"
   ]
  },
  {
   "cell_type": "markdown",
   "id": "7d129aed",
   "metadata": {},
   "source": [
    "### 1. In what modes should the PdfFileReader() and PdfFileWriter() File objects will be opened?"
   ]
  },
  {
   "cell_type": "markdown",
   "id": "d32aee5d",
   "metadata": {},
   "source": [
    "Ans: \n",
    "* PdfFilereader() needs to be opened in read-binary mode by passing 'rb' as the   second argument to open().\n",
    "* PdfFileWriter() needs to be opened in write-binary mode with 'wb'. \n",
    "Also First we need to install pyPDF2 by commnad:- pip install PyPDF2"
   ]
  },
  {
   "cell_type": "code",
   "execution_count": null,
   "id": "0def4ce1",
   "metadata": {},
   "outputs": [],
   "source": []
  },
  {
   "cell_type": "markdown",
   "id": "8091588d",
   "metadata": {},
   "source": [
    "### 2. From a PdfFileReader object, how do you get a Page object for page 5?"
   ]
  },
  {
   "cell_type": "markdown",
   "id": "b714fc02",
   "metadata": {},
   "source": [
    "Ans: Calling getPage(5) will return a Page object for page 6 since page 0 is the first page"
   ]
  },
  {
   "cell_type": "code",
   "execution_count": null,
   "id": "6f7d0a9f",
   "metadata": {},
   "outputs": [],
   "source": [
    "Demo code:\n",
    "    \n",
    "import PyPDF2 as pdf\n",
    "pdfFileObj = open(\"doc.pdf\",'rb')\n",
    "pdfReader = pdf.PdfFileReader(pdfFileObj)\n",
    "pageObj = pdfReader.getPage(5)\n",
    "pageObj.extractText()\n",
    "     "
   ]
  },
  {
   "cell_type": "markdown",
   "id": "2688774d",
   "metadata": {},
   "source": [
    "### 3. What PdfFileReader variable stores the number of pages in the PDF document?"
   ]
  },
  {
   "cell_type": "markdown",
   "id": "1b291868",
   "metadata": {},
   "source": [
    "Ans: getNumPages() method of PdfFileReader class stores the no pages in a PDF document"
   ]
  },
  {
   "cell_type": "code",
   "execution_count": null,
   "id": "9a105a84",
   "metadata": {},
   "outputs": [],
   "source": [
    "Example:- \n",
    "    \n",
    "from PyPDF2 import PdfFileReader\n",
    "pdf_reader = PdfFileReader(filepath)\n",
    "print(pdf_reader.getNumPages())    ## Printing no of pages in a input documnet"
   ]
  },
  {
   "cell_type": "markdown",
   "id": "f8fd3a3c",
   "metadata": {},
   "source": [
    "### 4. If a PdfFileReader object’s PDF is encrypted with the password swordfish, what must you do before you can obtain Page objects from it?"
   ]
  },
  {
   "cell_type": "markdown",
   "id": "d86e719b",
   "metadata": {},
   "source": [
    "Ans: If a PdfFileReader object’s PDF is encrypted with the password swordfish and you're not aware of it. first read the Pdf using the PdfFileReader Class. PdfFileReader class provides a attribute called isEncrypted to check whether a pdf is encrypted or not. the method returns true if a pdf is encrypted and vice versa. If pdf is encrypted use the decrypt() method provided by PdfFileReader class first then try to read the contents/pages of the pdf"
   ]
  },
  {
   "cell_type": "code",
   "execution_count": null,
   "id": "3b2565da",
   "metadata": {},
   "outputs": [],
   "source": [
    "#Example Code:\n",
    "from PyPDF2 import PdfFileReader\n",
    "pdf_reader = PdfFileReader(file_path)\n",
    "if pdf_reader.isEncrypted: # to check whether the pdf is encrypted or not\n",
    "    pdf_reader.decrypt(\"swordfish\")\n",
    "for page in pdf_reader.pages:\n",
    "    print(page.extractText()) # to print the text data of a page from pdf\n"
   ]
  },
  {
   "cell_type": "markdown",
   "id": "7ac483d0",
   "metadata": {},
   "source": [
    "### 5. What methods do you use to rotate a page?"
   ]
  },
  {
   "cell_type": "markdown",
   "id": "706ab74e",
   "metadata": {},
   "source": [
    "Ans: PyPDF2 Package provides 2 methods to rotate a page:\n",
    "1) rotateClockWise() -> For Clockwise rotation\n",
    "2) rotateCounterClockWise() -> For Counter Clockwise rotation\n",
    "\n",
    "The PyPDF2 package only allows you to rotate a page in increments of 90 degrees."
   ]
  },
  {
   "cell_type": "code",
   "execution_count": null,
   "id": "5e038e44",
   "metadata": {},
   "outputs": [],
   "source": []
  },
  {
   "cell_type": "markdown",
   "id": "a06f8721",
   "metadata": {},
   "source": [
    "### 6. What is the difference between a Run object and a Paragraph object?"
   ]
  },
  {
   "cell_type": "markdown",
   "id": "f47b4386",
   "metadata": {},
   "source": [
    "Ans: Run Objects:- Runs are contiguous groups of characters within a paragraph with the same style.A new Run object is needed whenever the text style changes.\n",
    "     \n",
    "Paragraph Object:- A document contains multiple paragraphs. A paragraph begins on a new line and contains multiple runs. The Document object contains a list of Paragraph objects for the paragraphs in the document. A new paragraph begins whenever the user presses ENTER or RETURN while typing in a Word document."
   ]
  },
  {
   "cell_type": "markdown",
   "id": "613ae5f3",
   "metadata": {},
   "source": [
    "### 7. How do you obtain a list of Paragraph objects for a Document object that’s stored in a variable named doc?"
   ]
  },
  {
   "cell_type": "code",
   "execution_count": null,
   "id": "1fe99b0b",
   "metadata": {},
   "outputs": [],
   "source": [
    "# Example Program\n",
    "from docx import Document\n",
    "\n",
    "doc = Document(\"sample_file.docx\") # Path of the Docx file\n",
    "print(doc.paragraphs)     # Printing the list of Paragraph objects for a Document\n",
    "\n",
    "for paragraph in doc.paragraphs:\n",
    "    print(paragraph.text) # Prints the text in the paragraph\n"
   ]
  },
  {
   "cell_type": "code",
   "execution_count": null,
   "id": "bebda7c8",
   "metadata": {},
   "outputs": [],
   "source": []
  },
  {
   "cell_type": "markdown",
   "id": "899cc21b",
   "metadata": {},
   "source": [
    "### 8. What type of object has bold, underline, italic, strike, and outline variables?"
   ]
  },
  {
   "cell_type": "markdown",
   "id": "a55b06f1",
   "metadata": {},
   "source": [
    "Ans: Run object has bold, underline, italic, strike, and outline variables. It has font, size, color, and other styling information associated with it"
   ]
  },
  {
   "cell_type": "code",
   "execution_count": null,
   "id": "7978a626",
   "metadata": {},
   "outputs": [],
   "source": []
  },
  {
   "cell_type": "markdown",
   "id": "d751ca16",
   "metadata": {},
   "source": [
    "### 9. What is the difference between False, True, and None for the bold variable?"
   ]
  },
  {
   "cell_type": "code",
   "execution_count": 2,
   "id": "bd0a1f56",
   "metadata": {},
   "outputs": [],
   "source": [
    "# Ans:-\n",
    "    \n",
    "bold = True             # It sets the style to Bold\n",
    "bold = False            # It does Not Set style to Bold\n",
    "bold = None             # Style is Not Applicable\n"
   ]
  },
  {
   "cell_type": "markdown",
   "id": "87d1cff5",
   "metadata": {},
   "source": [
    "### 10. How do you create a Document object for a new Word document?"
   ]
  },
  {
   "cell_type": "code",
   "execution_count": null,
   "id": "49c0448c",
   "metadata": {},
   "outputs": [],
   "source": [
    "# Code:-\n",
    "\n",
    "from docx import Document\n",
    "document = Document()\n",
    "document.add_paragraph(\"iNeuron is best coaching center. The mentors in iNeuron are amazing\")\n",
    "document.save('review.docx')\n"
   ]
  },
  {
   "cell_type": "markdown",
   "id": "12331b83",
   "metadata": {},
   "source": [
    "### 11. How do you add a paragraph with the text 'Hello, there!' to a Document object stored in a variable named doc?"
   ]
  },
  {
   "cell_type": "code",
   "execution_count": null,
   "id": "5019d78b",
   "metadata": {},
   "outputs": [],
   "source": [
    "# Code:- \n",
    "from docx import Document\n",
    "doc = Document()\n",
    "doc.add_paragraph('Hello, there!')\n",
    "doc.save('hello.docx')\n"
   ]
  },
  {
   "cell_type": "markdown",
   "id": "16623a9d",
   "metadata": {},
   "source": [
    "### 12. What integers represent the levels of headings available in Word documents?"
   ]
  },
  {
   "cell_type": "markdown",
   "id": "684db6d9",
   "metadata": {},
   "source": [
    "Ans: The levels for a heading in a word document can be specified by using the level attribute inside the add_heading method. There are a total of 5 levels statring for 0 t0 4. where level 0 makes a headline with the horizontal line below the text, whereas the heading level 1 is the main heading."
   ]
  },
  {
   "cell_type": "markdown",
   "id": "5a8d53e0",
   "metadata": {},
   "source": []
  },
  {
   "cell_type": "code",
   "execution_count": null,
   "id": "34261fcd",
   "metadata": {},
   "outputs": [],
   "source": []
  }
 ],
 "metadata": {
  "kernelspec": {
   "display_name": "Python 3 (ipykernel)",
   "language": "python",
   "name": "python3"
  },
  "language_info": {
   "codemirror_mode": {
    "name": "ipython",
    "version": 3
   },
   "file_extension": ".py",
   "mimetype": "text/x-python",
   "name": "python",
   "nbconvert_exporter": "python",
   "pygments_lexer": "ipython3",
   "version": "3.9.7"
  }
 },
 "nbformat": 4,
 "nbformat_minor": 5
}
