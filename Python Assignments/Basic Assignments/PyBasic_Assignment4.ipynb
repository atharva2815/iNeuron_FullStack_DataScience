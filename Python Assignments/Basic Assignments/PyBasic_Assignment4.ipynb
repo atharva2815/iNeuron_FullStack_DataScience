{
 "cells": [
  {
   "cell_type": "markdown",
   "id": "2da77c31",
   "metadata": {},
   "source": [
    "# Assignment 4"
   ]
  },
  {
   "cell_type": "code",
   "execution_count": null,
   "id": "5b3635ab",
   "metadata": {},
   "outputs": [],
   "source": [
    "# Q1. What exactly is []?\n",
    "\n",
    "square brackets [] are used to define a list in python."
   ]
  },
  {
   "cell_type": "code",
   "execution_count": null,
   "id": "bf7f91b7",
   "metadata": {},
   "outputs": [],
   "source": [
    "# Q2. In a list of values stored in a variable called spam, how would you assign the value 'hello' as the third value? (Assume [2, 4, 6, 8, 10] are in spam.)\n",
    "\n",
    "spam =[2,4,6,8,10]\n",
    "spam[2] = 'hello'\n",
    "spam"
   ]
  },
  {
   "cell_type": "code",
   "execution_count": null,
   "id": "e72cca44",
   "metadata": {},
   "outputs": [],
   "source": [
    "Lets pretend the spam includes the list ['a','b','c','d'] for the next three queries."
   ]
  },
  {
   "cell_type": "code",
   "execution_count": 4,
   "id": "0d203169",
   "metadata": {},
   "outputs": [
    {
     "data": {
      "text/plain": [
       "'d'"
      ]
     },
     "execution_count": 4,
     "metadata": {},
     "output_type": "execute_result"
    }
   ],
   "source": [
    "# Q3. What is the value of spam [int(int('3' * 2) / 11)]?\n",
    "\n",
    "spam = ['a','b','c','d'] \n",
    "x = spam[int(int('3' * 2) / 11)]\n",
    "x"
   ]
  },
  {
   "cell_type": "code",
   "execution_count": 5,
   "id": "3f829d84",
   "metadata": {},
   "outputs": [
    {
     "data": {
      "text/plain": [
       "'d'"
      ]
     },
     "execution_count": 5,
     "metadata": {},
     "output_type": "execute_result"
    }
   ],
   "source": [
    "# Q4. What is the value of spam[-1]?\n",
    "\n",
    "spam = ['a','b','c','d'] \n",
    "spam[-1]"
   ]
  },
  {
   "cell_type": "code",
   "execution_count": 6,
   "id": "fa6c5055",
   "metadata": {},
   "outputs": [
    {
     "data": {
      "text/plain": [
       "['a', 'b']"
      ]
     },
     "execution_count": 6,
     "metadata": {},
     "output_type": "execute_result"
    }
   ],
   "source": [
    "# Q5. What is the value of spam[:2]?\n",
    "\n",
    "spam = ['a','b','c','d'] \n",
    "spam[:2]"
   ]
  },
  {
   "cell_type": "code",
   "execution_count": null,
   "id": "8f3bd65d",
   "metadata": {},
   "outputs": [],
   "source": [
    "Lets pretend the spam includes the list [3.14,'cat',11,'cat',True] for the next three queries."
   ]
  },
  {
   "cell_type": "code",
   "execution_count": 7,
   "id": "40dce1ad",
   "metadata": {},
   "outputs": [
    {
     "data": {
      "text/plain": [
       "1"
      ]
     },
     "execution_count": 7,
     "metadata": {},
     "output_type": "execute_result"
    }
   ],
   "source": [
    "# Q6. What is the value of bacon.index('cat')?\n",
    "\n",
    "bacon = [3.14,'cat',11,'cat',True]\n",
    "bacon.index('cat')"
   ]
  },
  {
   "cell_type": "code",
   "execution_count": 9,
   "id": "61d79365",
   "metadata": {},
   "outputs": [
    {
     "data": {
      "text/plain": [
       "[3.14, 'cat', 11, 'cat', True, 99]"
      ]
     },
     "execution_count": 9,
     "metadata": {},
     "output_type": "execute_result"
    }
   ],
   "source": [
    "# Q7. How does bacon.append(99) change the look of the list value in bacon?\n",
    "\n",
    "bacon = [3.14,'cat',11,'cat',True]\n",
    "bacon.append(99)\n",
    "bacon"
   ]
  },
  {
   "cell_type": "code",
   "execution_count": 11,
   "id": "9c103881",
   "metadata": {},
   "outputs": [],
   "source": [
    "# Q8. How does bacon.remove('cat') change the look of the list in bacon?\n",
    "\n",
    "bacon = [3.14,'cat',11,'cat',True]\n",
    "bacon.remove('cat')"
   ]
  },
  {
   "cell_type": "code",
   "execution_count": null,
   "id": "43bcdd01",
   "metadata": {},
   "outputs": [],
   "source": [
    "# Q9. What are the list concatenation and list replication operators?\n",
    "\n",
    "List concatenation operator is : ' + '\n",
    "List Replication opertor is : ' * '"
   ]
  },
  {
   "cell_type": "code",
   "execution_count": null,
   "id": "d624ddc0",
   "metadata": {},
   "outputs": [],
   "source": [
    "# Q10. What is difference between the list methods append() and insert()?\n",
    "\n",
    "append method use for adding new element in the list and insert method use to add as well as modify the aready occupied position."
   ]
  },
  {
   "cell_type": "code",
   "execution_count": null,
   "id": "9793530d",
   "metadata": {},
   "outputs": [],
   "source": [
    "# Q11. What are the two methods for removing items from a list?\n",
    "\n",
    "remove() and pop()"
   ]
  },
  {
   "cell_type": "code",
   "execution_count": null,
   "id": "7e2db222",
   "metadata": {},
   "outputs": [],
   "source": [
    "# Q12. Describe how list values and string values are identical.\n",
    "\n",
    "Lists values are mutable and String values are immutable and List and strings bobth are sequenecs"
   ]
  },
  {
   "cell_type": "code",
   "execution_count": null,
   "id": "5b2ce11c",
   "metadata": {},
   "outputs": [],
   "source": [
    "# Q13. What's the difference between tuples and lists?\n",
    "\n",
    "Lists items are mutable  and Tuples items are immutable"
   ]
  },
  {
   "cell_type": "code",
   "execution_count": 10,
   "id": "42878df7",
   "metadata": {},
   "outputs": [
    {
     "data": {
      "text/plain": [
       "tuple"
      ]
     },
     "execution_count": 10,
     "metadata": {},
     "output_type": "execute_result"
    }
   ],
   "source": [
    "# Q14. How do you type a tuple value that only contains the integer 42?\n",
    "\n",
    "a = (42,)\n",
    "a\n",
    "type(a)"
   ]
  },
  {
   "cell_type": "code",
   "execution_count": null,
   "id": "85c3a0ea",
   "metadata": {},
   "outputs": [],
   "source": [
    "# Q15. How do you distinguish between copy.copy() and copy.deepcopy()?\n",
    "\n",
    "copy.copy() : It is reference to Original Objects like if we change the copied object then it will change the original object too.\n",
    "deepcopy() : It creates the new objects and make a same copy of  the instannce."
   ]
  }
 ],
 "metadata": {
  "kernelspec": {
   "display_name": "Python 3 (ipykernel)",
   "language": "python",
   "name": "python3"
  },
  "language_info": {
   "codemirror_mode": {
    "name": "ipython",
    "version": 3
   },
   "file_extension": ".py",
   "mimetype": "text/x-python",
   "name": "python",
   "nbconvert_exporter": "python",
   "pygments_lexer": "ipython3",
   "version": "3.9.7"
  }
 },
 "nbformat": 4,
 "nbformat_minor": 5
}
