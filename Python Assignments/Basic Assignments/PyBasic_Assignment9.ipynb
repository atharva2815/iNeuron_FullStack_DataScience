{
 "cells": [
  {
   "cell_type": "markdown",
   "id": "03860089",
   "metadata": {},
   "source": [
    "# Assignment 9"
   ]
  },
  {
   "cell_type": "markdown",
   "id": "197468c8",
   "metadata": {},
   "source": [
    "### 1.To what does a relative path refer ?"
   ]
  },
  {
   "cell_type": "markdown",
   "id": "a72a310b",
   "metadata": {},
   "source": [
    "Ans:A relative path is a way to specify the location of a directory relative to another directory.\n",
    "For example, suppose your documents are in C:\\Sample\\Documents and your index is in C:\\Sample\\Index"
   ]
  },
  {
   "cell_type": "markdown",
   "id": "e4033ef7",
   "metadata": {},
   "source": [
    "### 2.Where does an absolute path start with your Operating System ?"
   ]
  },
  {
   "cell_type": "markdown",
   "id": "903880b0",
   "metadata": {},
   "source": [
    "Ans:In Windows systems absolute path starts with C: and In Linux based systems the absolute path starts with /."
   ]
  },
  {
   "cell_type": "markdown",
   "id": "f82dd1e2",
   "metadata": {},
   "source": [
    "### 3.What does the functions os.getcwd() and os.chdir() do ?"
   ]
  },
  {
   "cell_type": "markdown",
   "id": "0dc041cd",
   "metadata": {},
   "source": [
    "Ans: os.getcwd() method tells about the location of current working directory (CWD). Whereas os.chdir() method in Python used to change the current working directory to specified path."
   ]
  },
  {
   "cell_type": "markdown",
   "id": "d1fef28f",
   "metadata": {},
   "source": [
    "###  4.What are . and .. folders ?"
   ]
  },
  {
   "cell_type": "markdown",
   "id": "dc4bd4bc",
   "metadata": {},
   "source": [
    "Ans: . Represents the Current Directory Whereas, .. Represents the Parent Directory of the Current Directory"
   ]
  },
  {
   "cell_type": "markdown",
   "id": "5b4d669d",
   "metadata": {},
   "source": [
    "### 5.In C:\\bacon\\eggs\\spam.txt which part is the dir name and which part is the base name ?"
   ]
  },
  {
   "cell_type": "markdown",
   "id": "c3b9a54f",
   "metadata": {},
   "source": [
    "Ans:\n",
    "The dir name is  C:\\\\bacon\\\\eggs\n",
    "The Base name is  spam.txt"
   ]
  },
  {
   "cell_type": "markdown",
   "id": "7175ae2a",
   "metadata": {},
   "source": [
    "### 6.What are the three mode arguments that can be passed to the open() function ?"
   ]
  },
  {
   "cell_type": "markdown",
   "id": "f5297ab8",
   "metadata": {},
   "source": [
    "Ans: A file can be Accessed in python using open() function. open function takes two arguments filename and mode of operation (optional). if mode is not provided the default mode of opening is read mode\n",
    "So, the syntax being: open(filename, mode)\n",
    "\n",
    "‘r’ – Read Mode: This is the default mode for open(). The file is opened for reading.\n",
    "‘w’ – Write Mode: Using this mode will overwrite any existing content in a file. If the given file does not exist, a new one will be created.\n",
    "‘a’ – Append Mode: With this mode the user can append the data without overwriting any already existing data in the file."
   ]
  },
  {
   "cell_type": "markdown",
   "id": "c484998f",
   "metadata": {},
   "source": [
    "### 7.What happens if an existing file is opened in write mode ?"
   ]
  },
  {
   "cell_type": "markdown",
   "id": "66ee40de",
   "metadata": {},
   "source": [
    "Ans: Using this mode will overwrite any existing content in a file. If the given file does not exist, a new one will be created."
   ]
  },
  {
   "cell_type": "markdown",
   "id": "a8f74ef3",
   "metadata": {},
   "source": [
    "### 8.How do you tell the difference between read() and readlines() ?"
   ]
  },
  {
   "cell_type": "markdown",
   "id": "48e6b8b2",
   "metadata": {},
   "source": [
    "Ans: The main difference is that read() will read the whole file at once and then print out the first characters that take up as many bytes as you specify in the parenthesis\n",
    "\n",
    "Whereas the readline() that will read and print out only the first characters that take up as many bytes as you specify in the parenthesis. You may want to use readline() when you're reading files that are too big for your RAM.\n",
    "The read() would treat each character in the file separately, meaning that the iteration would happen for every character.\n",
    "The readline() function, on the other hand, only reads a single line of the file. This means that if the first line of the file were three lines long, the readline() function would only parse (or iterate/operate) on the first line of the file."
   ]
  },
  {
   "cell_type": "markdown",
   "id": "cd8769c8",
   "metadata": {},
   "source": [
    "### 9.What data structure does a shelf value resemble ?"
   ]
  },
  {
   "cell_type": "markdown",
   "id": "09f7a855",
   "metadata": {},
   "source": [
    "Ans: A shelf value resembles a dictionary value; it has keys and values, along with keys() and values() methods that work similarly to the dictionary methods of the same names."
   ]
  },
  {
   "cell_type": "markdown",
   "id": "4c274eea",
   "metadata": {},
   "source": []
  }
 ],
 "metadata": {
  "kernelspec": {
   "display_name": "Python 3 (ipykernel)",
   "language": "python",
   "name": "python3"
  },
  "language_info": {
   "codemirror_mode": {
    "name": "ipython",
    "version": 3
   },
   "file_extension": ".py",
   "mimetype": "text/x-python",
   "name": "python",
   "nbconvert_exporter": "python",
   "pygments_lexer": "ipython3",
   "version": "3.9.7"
  }
 },
 "nbformat": 4,
 "nbformat_minor": 5
}
