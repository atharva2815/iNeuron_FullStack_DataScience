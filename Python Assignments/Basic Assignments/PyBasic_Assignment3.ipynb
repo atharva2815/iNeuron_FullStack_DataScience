{
 "cells": [
  {
   "cell_type": "markdown",
   "id": "81c14406",
   "metadata": {},
   "source": [
    "## Assignment 3"
   ]
  },
  {
   "cell_type": "code",
   "execution_count": null,
   "id": "ab0889b7",
   "metadata": {},
   "outputs": [],
   "source": [
    "# Q1)  Why are functions advantageous to have in your programs?\n",
    "\n",
    "The advantages of writing a function into a programs are:\n",
    "1) Reducing the dupication of code\n",
    "2) Using functions in programs help in easy to read and understand\n",
    "3) Functions helps to make large programs into smaller one.\n",
    "4) With the use of function the Time Complexity of functions is also reduced."
   ]
  },
  {
   "cell_type": "code",
   "execution_count": null,
   "id": "dd4b8887",
   "metadata": {},
   "outputs": [],
   "source": [
    "# Q2) When does the code in a function run: when it's specified or when it's called\n",
    "\n",
    "The function runs when it is callled."
   ]
  },
  {
   "cell_type": "code",
   "execution_count": null,
   "id": "c8d47c19",
   "metadata": {},
   "outputs": [],
   "source": [
    "# Q3) What statement creates a function\n",
    "\n",
    "A Function is created with the def keyword.\n",
    "Eg: \n",
    "def sum(a,b):\n",
    "    return a+b\n",
    "sum(2,3)"
   ]
  },
  {
   "cell_type": "code",
   "execution_count": null,
   "id": "fabb023a",
   "metadata": {},
   "outputs": [],
   "source": [
    "# Q4) What is the difference between a function and a function call?\n",
    "\n",
    "Function is a block of code that has some statements with the operations and it returns the result.\n",
    "Function call is the line of code which we pass control to another function."
   ]
  },
  {
   "cell_type": "code",
   "execution_count": null,
   "id": "051aab09",
   "metadata": {},
   "outputs": [],
   "source": [
    "# Q5) How many global scopes are there in a Python program? How many local scopes\n",
    "\n",
    "There is only one Global space and Local Space in python."
   ]
  },
  {
   "cell_type": "code",
   "execution_count": null,
   "id": "d32d4016",
   "metadata": {},
   "outputs": [],
   "source": [
    "# Q6) What happens to variables in a local scope when the function call returns\n",
    "\n",
    "When the function call returns the functions then the local variables are destroyed."
   ]
  },
  {
   "cell_type": "code",
   "execution_count": null,
   "id": "491c9902",
   "metadata": {},
   "outputs": [],
   "source": [
    "# Q7) What is the concept of a return value? Is it possible to have a return value in an expression\n",
    "\n",
    "Return value statement is used to end the execution of the function call and returns the value of expression and  by the return keyword  we can have reutrn value in expression"
   ]
  },
  {
   "cell_type": "code",
   "execution_count": null,
   "id": "912cfec6",
   "metadata": {},
   "outputs": [],
   "source": [
    "# Q8) If a function does not have a return statement, what is the return value of a call to that function?\n",
    "\n",
    "If there is no return statement defined in the function then it automatically returns to the calling function affter the last statemen t of the callled function executed"
   ]
  },
  {
   "cell_type": "code",
   "execution_count": null,
   "id": "a0dedf38",
   "metadata": {},
   "outputs": [],
   "source": [
    "# Q9) How do you make a function variable refer to the global variable?\n",
    "\n",
    "To make a function varaible refer to the global varaible that particular function has to be defined with the global keyword."
   ]
  },
  {
   "cell_type": "code",
   "execution_count": null,
   "id": "b7919a51",
   "metadata": {},
   "outputs": [],
   "source": [
    "# Q10) What is the data type of None?\n",
    "\n",
    "None is a data type of its own None.\n"
   ]
  },
  {
   "cell_type": "code",
   "execution_count": null,
   "id": "9c179764",
   "metadata": {},
   "outputs": [],
   "source": [
    "# Q11) What does the sentence import areallyourpetsnamederic do?"
   ]
  },
  {
   "cell_type": "code",
   "execution_count": null,
   "id": "c3145636",
   "metadata": {},
   "outputs": [],
   "source": [
    "# Q12) If you had a bacon() feature in a spam module, what would you call it after importing spam?\n",
    "\n",
    "spam.bacon()"
   ]
  },
  {
   "cell_type": "code",
   "execution_count": null,
   "id": "2774794c",
   "metadata": {},
   "outputs": [],
   "source": [
    "# Q13) What can you do to save a programme from crashing if it encounters an error?\n",
    "\n",
    "We can use Try and Except statement in which we can run the program in try block and if the error occurs then it will throw an eroor instead of crashing the program."
   ]
  },
  {
   "cell_type": "code",
   "execution_count": null,
   "id": "b22e6a4e",
   "metadata": {},
   "outputs": [],
   "source": [
    "# Q14) What is the purpose of the try clause? What is the purpose of the except clause?\n",
    "\n",
    "Try blocks lets you test a block of code for error and the except blocks helps us to handle the error."
   ]
  }
 ],
 "metadata": {
  "kernelspec": {
   "display_name": "Python 3 (ipykernel)",
   "language": "python",
   "name": "python3"
  },
  "language_info": {
   "codemirror_mode": {
    "name": "ipython",
    "version": 3
   },
   "file_extension": ".py",
   "mimetype": "text/x-python",
   "name": "python",
   "nbconvert_exporter": "python",
   "pygments_lexer": "ipython3",
   "version": "3.9.7"
  }
 },
 "nbformat": 4,
 "nbformat_minor": 5
}
