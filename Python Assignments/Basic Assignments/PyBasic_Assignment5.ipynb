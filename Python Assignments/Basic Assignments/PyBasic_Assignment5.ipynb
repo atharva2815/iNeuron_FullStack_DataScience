{
 "cells": [
  {
   "cell_type": "markdown",
   "id": "0b11e7c8",
   "metadata": {},
   "source": [
    "# Assignment 5"
   ]
  },
  {
   "cell_type": "code",
   "execution_count": 1,
   "id": "8df7b255",
   "metadata": {},
   "outputs": [
    {
     "data": {
      "text/plain": [
       "dict"
      ]
     },
     "execution_count": 1,
     "metadata": {},
     "output_type": "execute_result"
    }
   ],
   "source": [
    "# 1. What does an empty dictionary's code look like?\n",
    "\n",
    "a = {}\n",
    "type(a)"
   ]
  },
  {
   "cell_type": "code",
   "execution_count": 3,
   "id": "d5067ab2",
   "metadata": {},
   "outputs": [
    {
     "data": {
      "text/plain": [
       "{'foo': 42}"
      ]
     },
     "execution_count": 3,
     "metadata": {},
     "output_type": "execute_result"
    }
   ],
   "source": [
    "# 2. What is the value of a dictionary value with the key 'foo' and the value 42?\n",
    "\n",
    "a = {'foo' : 42}\n",
    "a"
   ]
  },
  {
   "cell_type": "code",
   "execution_count": null,
   "id": "9201d1bd",
   "metadata": {},
   "outputs": [],
   "source": [
    "# 3. What is the most significant distinction between a dictionary and a list?\n",
    "\n",
    "Lists are created by elements in [] seperated by commas. And Dictinory is created by placing elements in Key value pairs."
   ]
  },
  {
   "cell_type": "code",
   "execution_count": 2,
   "id": "e5132327",
   "metadata": {},
   "outputs": [],
   "source": [
    "# 4. What happens if you try to access spam['foo'] if spam is {'bar': 100}?\n",
    "\n",
    "spam = {'bar' : 100}\n",
    "spam['foo']\n",
    "It give key error as foo"
   ]
  },
  {
   "cell_type": "code",
   "execution_count": null,
   "id": "1f872558",
   "metadata": {},
   "outputs": [],
   "source": [
    "# 5. If a dictionary is stored in spam, what is the difference between the expressions 'cat' in spam and'cat'in spam.keys()?\n",
    "\n",
    "There is no difference cat in spam checeks whether there is cat in the dictionary, whie cat in spam.values checks whether there is a value 'cat for one of the keys in spam.'"
   ]
  },
  {
   "cell_type": "code",
   "execution_count": null,
   "id": "32b12e18",
   "metadata": {},
   "outputs": [],
   "source": [
    "# 6. If a dictionary is stored in spam, what is the difference between the expressions 'cat' in spam and\n",
    "'cat' in spam.values()?\n",
    "\n",
    "There is no difference cat in spam checeks whether there is cat in the dictionary, whie cat in spam.values checks whether there is a value 'cat for one of the keys in spam.'"
   ]
  },
  {
   "cell_type": "code",
   "execution_count": null,
   "id": "08b4cd3c",
   "metadata": {},
   "outputs": [],
   "source": [
    "# 7. What is a shortcut for the following code?\n",
    "if 'color' not in spam:\n",
    "    spam['color'] = 'black'\n"
   ]
  }
 ],
 "metadata": {
  "kernelspec": {
   "display_name": "Python 3 (ipykernel)",
   "language": "python",
   "name": "python3"
  },
  "language_info": {
   "codemirror_mode": {
    "name": "ipython",
    "version": 3
   },
   "file_extension": ".py",
   "mimetype": "text/x-python",
   "name": "python",
   "nbconvert_exporter": "python",
   "pygments_lexer": "ipython3",
   "version": "3.9.7"
  }
 },
 "nbformat": 4,
 "nbformat_minor": 5
}
