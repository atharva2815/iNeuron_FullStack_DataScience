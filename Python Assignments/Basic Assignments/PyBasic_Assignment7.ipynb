{
 "cells": [
  {
   "cell_type": "markdown",
   "id": "51dc3182",
   "metadata": {},
   "source": [
    "# Assignment 7"
   ]
  },
  {
   "cell_type": "markdown",
   "id": "99bf71ba",
   "metadata": {},
   "source": [
    "#### Q1. What is the name of the feature responsible for generating Regex objects?"
   ]
  },
  {
   "cell_type": "code",
   "execution_count": 6,
   "id": "2d3ecb76",
   "metadata": {},
   "outputs": [
    {
     "name": "stdout",
     "output_type": "stream",
     "text": [
      "re.compile('random_numbers')\n"
     ]
    }
   ],
   "source": [
    "# Ans: re.compile() is the feature responible for generation of Regex Objects.\n",
    "    \n",
    "import re\n",
    "x = re.compile(\"random_numbers\")\n",
    "type(x)\n",
    "print(x)"
   ]
  },
  {
   "cell_type": "markdown",
   "id": "866fc2d7",
   "metadata": {},
   "source": [
    "### Q2.  Why do raw string often appear in regex object?"
   ]
  },
  {
   "cell_type": "markdown",
   "id": "0bb1b601",
   "metadata": {},
   "source": [
    "Ans: Regular expressions use the backslash character('\\')  to indicate special forms (Metacharacters) or to allow special characters to be used without invoking their special meaning. This collides with Python’s usage of the same character for the same purpose in string literals. Hence, Raw strings are used (e.g. r\"\\n\") so that backslashes do not have to be escaped."
   ]
  },
  {
   "cell_type": "markdown",
   "id": "2efe7f86",
   "metadata": {},
   "source": [
    "### Q3. What is the return value of the search() method?"
   ]
  },
  {
   "cell_type": "code",
   "execution_count": 10,
   "id": "bf4a192d",
   "metadata": {},
   "outputs": [
    {
     "name": "stdout",
     "output_type": "stream",
     "text": [
      "Output: <re.Match object; span=(0, 1), match='I'>\n",
      "Output: None\n"
     ]
    }
   ],
   "source": [
    "# Ans: The return value of re.search(pattern,string) method i a match object if the pattern is oberveed in the string ele it returns a None \n",
    "\n",
    "import re\n",
    "match = re.search('i','Ineuron Data Science Program', flags=re.IGNORECASE)\n",
    "print('Output:',match)\n",
    "match = re.search('X','Ineuron Data Science Program', flags=re.IGNORECASE)\n",
    "print('Output:',match)"
   ]
  },
  {
   "cell_type": "markdown",
   "id": "a8b8482c",
   "metadata": {},
   "source": [
    "### Q4. From a Match item, how do you get the actual strings that match the pattern?"
   ]
  },
  {
   "cell_type": "code",
   "execution_count": 11,
   "id": "ef8a67e1",
   "metadata": {},
   "outputs": [
    {
     "name": "stdout",
     "output_type": "stream",
     "text": [
      "Output: iNeuron\n"
     ]
    }
   ],
   "source": [
    "# Ans: For Matched items group() methods returns actual strings that match the pattern\n",
    "\n",
    "import re\n",
    "match = re.search('iNeuron','iNeuron Data Science Bootcamp', flags=re.IGNORECASE)\n",
    "print('Output:',match.group())"
   ]
  },
  {
   "cell_type": "markdown",
   "id": "28a94f17",
   "metadata": {},
   "source": [
    "### Q5. In the regex which created from the r'(\\d\\d\\d)-(\\d\\d\\d-\\d\\d\\d\\d)', what does group zero cover? Group 2? Group 1?"
   ]
  },
  {
   "cell_type": "code",
   "execution_count": 12,
   "id": "d75ba3f3",
   "metadata": {},
   "outputs": [
    {
     "name": "stdout",
     "output_type": "stream",
     "text": [
      "('932', '568-0089')\n",
      "932-568-0089\n",
      "932\n",
      "568-0089\n"
     ]
    }
   ],
   "source": [
    "# Ans: In the Regex r'(\\d\\d\\d)-(\\d\\d\\d-\\d\\d\\d\\d)' the zero group covers the entire pattern match where as the first group cover (\\d\\d\\d) and the second group cover (\\d\\d\\d-\\d\\d\\d\\d)\n",
    "\n",
    "\n",
    "import re\n",
    "phoneNumRegex = re.compile(r'(\\d\\d\\d)-(\\d\\d\\d-\\d\\d\\d\\d)')\n",
    "mo = phoneNumRegex.search('My number is 932-568-0089.')\n",
    "print(mo.groups()) # Prints all groups in a tuple format\n",
    "print(mo.group()) # Always returns the fully matched string \n",
    "print(mo.group(1)) # Returns the first group\n",
    "print(mo.group(2)) # Returns the second group\n"
   ]
  },
  {
   "cell_type": "markdown",
   "id": "3f2a0785",
   "metadata": {},
   "source": [
    "### Q6. In standard expression syntax, parentheses and intervals have distinct meanings. How can you tell a regex that you want it to fit real parentheses and periods?\n"
   ]
  },
  {
   "cell_type": "code",
   "execution_count": 13,
   "id": "40241216",
   "metadata": {},
   "outputs": [
    {
     "name": "stdout",
     "output_type": "stream",
     "text": [
      "(913) 984-7515\n"
     ]
    }
   ],
   "source": [
    "#Ans: The \\. \\( and \\) escape characters in the raw string passed to re.compile() will match actual parenthesis characters.\n",
    "\n",
    "import re\n",
    "phoneNumRegex = re.compile(r'(\\(\\d\\d\\d\\)) (\\d\\d\\d-\\d\\d\\d\\d)')\n",
    "mo = phoneNumRegex.search('My phone number is (913) 984-7515.')\n",
    "print(mo.group())"
   ]
  },
  {
   "cell_type": "markdown",
   "id": "88fe6be9",
   "metadata": {},
   "source": [
    "### Q7. The findall() method returns a string list or a list of string tuples. What causes it to return one of the two options?"
   ]
  },
  {
   "cell_type": "code",
   "execution_count": 18,
   "id": "35a67e10",
   "metadata": {},
   "outputs": [
    {
     "name": "stdout",
     "output_type": "stream",
     "text": [
      "[('(913)', '984-7515')]\n",
      "['913-984-7515']\n"
     ]
    }
   ],
   "source": [
    "# Ans: If the regex pattern has no groups, a list of strings matched is returned. if the regex pattern has groups, a list of tuple of strings is returned.\n",
    "\n",
    "# Example Program\n",
    "import re\n",
    "phoneNumRegex = re.compile(r'(\\(\\d\\d\\d\\)) (\\d\\d\\d-\\d\\d\\d\\d)')\n",
    "mo = phoneNumRegex.findall('My phone number is (913) 984-7515.')\n",
    "print(mo)\n",
    "\n",
    "# Example Program\n",
    "import re\n",
    "phoneNumRegex = re.compile(r'\\d{3}-\\d{3}-\\d{4}')\n",
    "mo = phoneNumRegex.findall('My number is 913-984-7515')\n",
    "print(mo) "
   ]
  },
  {
   "cell_type": "markdown",
   "id": "068bcd68",
   "metadata": {},
   "source": [
    "### Q8. In standard expressions, what does the | character mean?\n"
   ]
  },
  {
   "cell_type": "code",
   "execution_count": 19,
   "id": "1dd6d573",
   "metadata": {},
   "outputs": [],
   "source": [
    "# Ans: In Standard Expressions | means OR operator."
   ]
  },
  {
   "cell_type": "markdown",
   "id": "27a18922",
   "metadata": {},
   "source": [
    "### Q9. In regular expressions, what does the ? character stand for?\n"
   ]
  },
  {
   "cell_type": "code",
   "execution_count": 20,
   "id": "31c4309c",
   "metadata": {},
   "outputs": [
    {
     "name": "stdout",
     "output_type": "stream",
     "text": [
      "<re.Match object; span=(0, 6), match='Batman'>\n",
      "<re.Match object; span=(0, 8), match='Batwoman'>\n"
     ]
    }
   ],
   "source": [
    "# Ans: In regular Expressions, ? characters represents zero or one match of the preceeding group.\n",
    "\n",
    "import re\n",
    "match_1 = re.search(\"Bat(wo)?man\",\"Batman returns\")\n",
    "print(match_1)\n",
    "match_2 = re.search(\"Bat(wo)?man\",\"Batwoman returns\")\n",
    "print(match_2)"
   ]
  },
  {
   "cell_type": "markdown",
   "id": "60c2f2d1",
   "metadata": {},
   "source": [
    "### 10.In regular expressions, what is the difference between the + and * characters?"
   ]
  },
  {
   "cell_type": "code",
   "execution_count": 21,
   "id": "9d7494de",
   "metadata": {},
   "outputs": [
    {
     "name": "stdout",
     "output_type": "stream",
     "text": [
      "<re.Match object; span=(0, 6), match='Batman'>\n",
      "None\n"
     ]
    }
   ],
   "source": [
    "# Ans: In Regular Expressions, * Represents Zero ore more occurances of the preceeding group, whereas + represents one or more occurances of the preceeding group.\n",
    "\n",
    "import re\n",
    "match_1 = re.search(\"Bat(wo)*man\",\"Batman returns\")\n",
    "print(match_1)\n",
    "match_2 = re.search(\"Bat(wo)+man\",\"Batman returns\")\n",
    "print(match_2)"
   ]
  },
  {
   "cell_type": "code",
   "execution_count": null,
   "id": "5e12ce7f",
   "metadata": {},
   "outputs": [],
   "source": []
  }
 ],
 "metadata": {
  "kernelspec": {
   "display_name": "Python 3 (ipykernel)",
   "language": "python",
   "name": "python3"
  },
  "language_info": {
   "codemirror_mode": {
    "name": "ipython",
    "version": 3
   },
   "file_extension": ".py",
   "mimetype": "text/x-python",
   "name": "python",
   "nbconvert_exporter": "python",
   "pygments_lexer": "ipython3",
   "version": "3.9.7"
  }
 },
 "nbformat": 4,
 "nbformat_minor": 5
}
