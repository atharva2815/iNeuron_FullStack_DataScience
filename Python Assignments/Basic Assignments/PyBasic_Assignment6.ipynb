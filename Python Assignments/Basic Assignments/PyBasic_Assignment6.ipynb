{
 "cells": [
  {
   "cell_type": "markdown",
   "id": "9523531d",
   "metadata": {},
   "source": [
    "# Assignment 6"
   ]
  },
  {
   "cell_type": "code",
   "execution_count": null,
   "id": "95bf6a8b",
   "metadata": {},
   "outputs": [],
   "source": [
    "# 1. What are escape characters, and how do you use them? \n",
    "\n",
    "Ans: Escape characters represent the characters in string values. We can use the backslash and then character to escape a single character or symbol. Eg: \\t , \\n "
   ]
  },
  {
   "cell_type": "code",
   "execution_count": null,
   "id": "46dc2eb5",
   "metadata": {},
   "outputs": [],
   "source": [
    "# 2. What do the escape characters n and t stand for?\n",
    "\n",
    "Ans: \\t is a tab and \\n is a newline character."
   ]
  },
  {
   "cell_type": "code",
   "execution_count": null,
   "id": "25c55a7d",
   "metadata": {},
   "outputs": [],
   "source": [
    "# 3. What is the way to include backslash characters in a string?\n",
    "\n",
    "Ans. The \\\\ escape character represents the backslash character in a string."
   ]
  },
  {
   "cell_type": "code",
   "execution_count": null,
   "id": "ad231be5",
   "metadata": {},
   "outputs": [],
   "source": [
    "# 4. The string \"Howl's Moving Castle \" is a correct value. Why isn't the single quote character in the word Howl's not escaped a problem?\n",
    "\n",
    "Ans: In the string \"Howl's Moving Castle\" , It is written in the double quotes so its a correct value. If this string was wriitten in the singe quotes thene we have to use the escape character '\\' to show the single quote in the output."
   ]
  },
  {
   "cell_type": "code",
   "execution_count": null,
   "id": "587195f6",
   "metadata": {},
   "outputs": [],
   "source": [
    "# 5.  How do you write a string of newlines if you don't want to use the n character?\n",
    "\n",
    "Ans: Multiline string allows us to use newlines in string without the escape charater '\\n'.\n"
   ]
  },
  {
   "cell_type": "code",
   "execution_count": null,
   "id": "73bb885b",
   "metadata": {},
   "outputs": [],
   "source": [
    "# 6. What are the values of the given expressions?\n",
    "\n",
    "'Hello , world!'[1]    --> 'e'\n",
    "'Hello, world!'[0:5]   --> 'Hello'\n",
    "'Hello, world!'[:5]    --> 'Hello'\n",
    "'Hello, world!'[3:]    --> 'lo, world!'"
   ]
  },
  {
   "cell_type": "code",
   "execution_count": 1,
   "id": "6321e423",
   "metadata": {},
   "outputs": [
    {
     "data": {
      "text/plain": [
       "'lo, world!'"
      ]
     },
     "execution_count": 1,
     "metadata": {},
     "output_type": "execute_result"
    }
   ],
   "source": [
    "a = 'Hello , world!'  \n",
    "b = 'Hello, world!'\n",
    "c = 'Hello, world!'\n",
    "d = 'Hello, world!'\n",
    "a[1]\n",
    "b[0:5]\n",
    "c[:5]\n",
    "d[3:]"
   ]
  },
  {
   "cell_type": "code",
   "execution_count": null,
   "id": "bf23cbb6",
   "metadata": {},
   "outputs": [],
   "source": [
    "# 7. What are the values of the following expressions?\n",
    "\n",
    "'Hello'.upper()               --> 'HELLO'\n",
    "'Hello'.upper().isupper()     --> True\n",
    "'Hello'.upper().lower()       --> 'hello'"
   ]
  },
  {
   "cell_type": "code",
   "execution_count": 2,
   "id": "57cff4f1",
   "metadata": {},
   "outputs": [
    {
     "data": {
      "text/plain": [
       "'HELLO'"
      ]
     },
     "execution_count": 2,
     "metadata": {},
     "output_type": "execute_result"
    }
   ],
   "source": [
    "'Hello'.upper()\n"
   ]
  },
  {
   "cell_type": "code",
   "execution_count": 3,
   "id": "00af3ada",
   "metadata": {},
   "outputs": [
    {
     "data": {
      "text/plain": [
       "True"
      ]
     },
     "execution_count": 3,
     "metadata": {},
     "output_type": "execute_result"
    }
   ],
   "source": [
    "'Hello'.upper().isupper()\n"
   ]
  },
  {
   "cell_type": "code",
   "execution_count": 4,
   "id": "b2f48843",
   "metadata": {},
   "outputs": [
    {
     "data": {
      "text/plain": [
       "'hello'"
      ]
     },
     "execution_count": 4,
     "metadata": {},
     "output_type": "execute_result"
    }
   ],
   "source": [
    "'Hello'.upper().lower()"
   ]
  },
  {
   "cell_type": "code",
   "execution_count": null,
   "id": "f6d9a165",
   "metadata": {},
   "outputs": [],
   "source": [
    "# 8. What are the values of the following expressions?\n",
    "\n",
    "'Remember, remember, the fifth of July.'.split()\n",
    "'_'.join('There can ony one.'.split())"
   ]
  },
  {
   "cell_type": "code",
   "execution_count": 5,
   "id": "6982a313",
   "metadata": {},
   "outputs": [
    {
     "data": {
      "text/plain": [
       "['Remember,', 'remember,', 'the', 'fifth', 'of', 'July.']"
      ]
     },
     "execution_count": 5,
     "metadata": {},
     "output_type": "execute_result"
    }
   ],
   "source": [
    "# Ans 8:\n",
    "'Remember, remember, the fifth of July.'.split()\n"
   ]
  },
  {
   "cell_type": "code",
   "execution_count": 6,
   "id": "f4d91efe",
   "metadata": {},
   "outputs": [
    {
     "data": {
      "text/plain": [
       "'There_can_ony_one.'"
      ]
     },
     "execution_count": 6,
     "metadata": {},
     "output_type": "execute_result"
    }
   ],
   "source": [
    "# Ans 8:\n",
    "'_'.join('There can ony one.'.split())"
   ]
  },
  {
   "cell_type": "code",
   "execution_count": null,
   "id": "83338116",
   "metadata": {},
   "outputs": [],
   "source": [
    "# 9. What are the methods for right-justifying, left-justifying, and centering a string?\n",
    "\n",
    "Ans: The rjust() , ljust() , center() string method respectively"
   ]
  },
  {
   "cell_type": "code",
   "execution_count": null,
   "id": "13dd20e7",
   "metadata": {},
   "outputs": [],
   "source": [
    "# 10. What is the best way to remove whitespace characters from the start or end?\n",
    "\n",
    "Ans: The lstrip() and rstrip() methods removes the whitespace characters from the left an right ends of string respectively."
   ]
  }
 ],
 "metadata": {
  "kernelspec": {
   "display_name": "Python 3 (ipykernel)",
   "language": "python",
   "name": "python3"
  },
  "language_info": {
   "codemirror_mode": {
    "name": "ipython",
    "version": 3
   },
   "file_extension": ".py",
   "mimetype": "text/x-python",
   "name": "python",
   "nbconvert_exporter": "python",
   "pygments_lexer": "ipython3",
   "version": "3.9.7"
  }
 },
 "nbformat": 4,
 "nbformat_minor": 5
}
