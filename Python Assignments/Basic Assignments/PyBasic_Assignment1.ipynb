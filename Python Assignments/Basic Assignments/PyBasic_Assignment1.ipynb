{
 "cells": [
  {
   "cell_type": "markdown",
   "id": "0a47c743",
   "metadata": {},
   "source": [
    "# Assignment 1"
   ]
  },
  {
   "cell_type": "code",
   "execution_count": null,
   "id": "a72b574f",
   "metadata": {},
   "outputs": [],
   "source": [
    "# Q1) Identifying Values or Expressions\n",
    "\n",
    "* :- Expression\n",
    "'hello' :- Values\n",
    "-87.8 :- Values\n",
    "- :- Expression\n",
    "/ :- Expression\n",
    "+ :- Expression\n",
    "6 :- Values\n",
    "    \n"
   ]
  },
  {
   "cell_type": "code",
   "execution_count": null,
   "id": "15978283",
   "metadata": {},
   "outputs": [],
   "source": [
    "# Q2) What is difference Between String and Variable?\n",
    "\n",
    "String:- String is the representation of value in text And\n",
    "Varaible:- It is the name that can refer to any value\n",
    "Eg:- a = 'Hello Python'\n",
    "Here Hello Python is string (value)  and 'a' is variable \n"
   ]
  },
  {
   "cell_type": "code",
   "execution_count": null,
   "id": "d366e838",
   "metadata": {},
   "outputs": [],
   "source": [
    "# Q3) Describe any three Data types\n",
    "\n",
    "1)  int :- Integer numbers (2,4,56,76)\n",
    "2)  float :- Decimal numbers (2.3,4.56,7.89)\n",
    "3)  string :- characters (a,b,c) They are declare in \"\"\n",
    "a=5\n",
    "print(type(a))\n",
    "b=6.9\n",
    "print(type(b))\n",
    "c=\"Saurabh\"\n",
    "print(type(c))"
   ]
  },
  {
   "cell_type": "code",
   "execution_count": null,
   "id": "51bee4e5",
   "metadata": {},
   "outputs": [],
   "source": [
    "# Q4) WHat is an expression made up of? What do all expression do?\n",
    "\n",
    "Expression is made up of all mathematical opertors. It is combination of values , varaibles and opertors.\n",
    "Expression are used to evaluate to a single value. THey are the representions of the values."
   ]
  },
  {
   "cell_type": "code",
   "execution_count": null,
   "id": "e22da467",
   "metadata": {},
   "outputs": [],
   "source": [
    "#Q5) This assignment statements, like spam = 10. What is the difference between an expression and a statement?\n",
    "\n",
    "Expression are the combinations of values, variables and Operators.\n",
    "Statement represent an action or command. Eg: print statement  "
   ]
  },
  {
   "cell_type": "code",
   "execution_count": 2,
   "id": "6a990912",
   "metadata": {},
   "outputs": [
    {
     "data": {
      "text/plain": [
       "22"
      ]
     },
     "execution_count": 2,
     "metadata": {},
     "output_type": "execute_result"
    }
   ],
   "source": [
    "# Q6) 6. After running the following code, what does the variable bacon contain?\n",
    "# bacon = 22\n",
    "# bacon + 1\n",
    "\n",
    "bacon = 22\n",
    "bacon"
   ]
  },
  {
   "cell_type": "code",
   "execution_count": 3,
   "id": "8a12f328",
   "metadata": {},
   "outputs": [
    {
     "data": {
      "text/plain": [
       "22"
      ]
     },
     "execution_count": 3,
     "metadata": {},
     "output_type": "execute_result"
    }
   ],
   "source": [
    "bacon + 1\n",
    "bacon"
   ]
  },
  {
   "cell_type": "code",
   "execution_count": 4,
   "id": "75429e19",
   "metadata": {},
   "outputs": [
    {
     "data": {
      "text/plain": [
       "'spamspamspam'"
      ]
     },
     "execution_count": 4,
     "metadata": {},
     "output_type": "execute_result"
    }
   ],
   "source": [
    "# Q7) What should the values of the following two terms be?\n",
    "\n",
    "a = 'spam' + 'spamspam'\n",
    "a"
   ]
  },
  {
   "cell_type": "code",
   "execution_count": 6,
   "id": "3036b6e9",
   "metadata": {},
   "outputs": [
    {
     "data": {
      "text/plain": [
       "'spamspamspam'"
      ]
     },
     "execution_count": 6,
     "metadata": {},
     "output_type": "execute_result"
    }
   ],
   "source": [
    "b = 'spam' * 3\n",
    "b"
   ]
  },
  {
   "cell_type": "code",
   "execution_count": null,
   "id": "0c9c00f9",
   "metadata": {},
   "outputs": [],
   "source": [
    "# Q8) Why is eggs a valid variable name while 100 is invalid?\n",
    "\n",
    "Because variable names are are case sensative and only characters and undersores are used to declare a variable name. 100 is an integer so that it is an invalid variable."
   ]
  },
  {
   "cell_type": "code",
   "execution_count": null,
   "id": "cf9ae2e4",
   "metadata": {},
   "outputs": [],
   "source": [
    "# Q9) What three functions can be used to get the integer, floating-point number, or string version of a value?\n",
    "\n",
    "int() , float() , str()\n"
   ]
  },
  {
   "cell_type": "code",
   "execution_count": 7,
   "id": "d35fca45",
   "metadata": {},
   "outputs": [
    {
     "ename": "TypeError",
     "evalue": "can only concatenate str (not \"int\") to str",
     "output_type": "error",
     "traceback": [
      "\u001b[1;31m---------------------------------------------------------------------------\u001b[0m",
      "\u001b[1;31mTypeError\u001b[0m                                 Traceback (most recent call last)",
      "\u001b[1;32m~\\AppData\\Local\\Temp/ipykernel_19832/189990119.py\u001b[0m in \u001b[0;36m<module>\u001b[1;34m\u001b[0m\n\u001b[0;32m      1\u001b[0m \u001b[1;31m# Q10) Why does this expression cause an error? How can you fix it?\u001b[0m\u001b[1;33m\u001b[0m\u001b[1;33m\u001b[0m\u001b[0m\n\u001b[0;32m      2\u001b[0m \u001b[1;33m\u001b[0m\u001b[0m\n\u001b[1;32m----> 3\u001b[1;33m \u001b[1;34m'I havve eaten'\u001b[0m \u001b[1;33m+\u001b[0m \u001b[1;36m99\u001b[0m  \u001b[1;33m+\u001b[0m \u001b[1;34m'burritos'\u001b[0m\u001b[1;33m\u001b[0m\u001b[1;33m\u001b[0m\u001b[0m\n\u001b[0m",
      "\u001b[1;31mTypeError\u001b[0m: can only concatenate str (not \"int\") to str"
     ]
    }
   ],
   "source": [
    "# Q10) Why does this expression cause an error? How can you fix it?\n",
    "\n",
    "'I havve eaten' + 99  + 'burritos'\n",
    "\n",
    "# We can fix this by converting int into str data type...."
   ]
  },
  {
   "cell_type": "code",
   "execution_count": 9,
   "id": "34d217aa",
   "metadata": {},
   "outputs": [
    {
     "data": {
      "text/plain": [
       "'I have eaten 9 burritos'"
      ]
     },
     "execution_count": 9,
     "metadata": {},
     "output_type": "execute_result"
    }
   ],
   "source": [
    "'I have eaten' + ' 9 ' + 'burritos'"
   ]
  },
  {
   "cell_type": "code",
   "execution_count": null,
   "id": "80009491",
   "metadata": {},
   "outputs": [],
   "source": []
  }
 ],
 "metadata": {
  "kernelspec": {
   "display_name": "Python 3 (ipykernel)",
   "language": "python",
   "name": "python3"
  },
  "language_info": {
   "codemirror_mode": {
    "name": "ipython",
    "version": 3
   },
   "file_extension": ".py",
   "mimetype": "text/x-python",
   "name": "python",
   "nbconvert_exporter": "python",
   "pygments_lexer": "ipython3",
   "version": "3.9.7"
  }
 },
 "nbformat": 4,
 "nbformat_minor": 5
}
