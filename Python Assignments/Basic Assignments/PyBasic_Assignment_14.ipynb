{
 "cells": [
  {
   "cell_type": "markdown",
   "id": "2e800eb2",
   "metadata": {},
   "source": [
    "# Assignment 14"
   ]
  },
  {
   "cell_type": "markdown",
   "id": "4cae992d",
   "metadata": {},
   "source": [
    "### 1. What does RGBA stand for?"
   ]
  },
  {
   "cell_type": "markdown",
   "id": "dde441fc",
   "metadata": {},
   "source": [
    "RGBA is a four-channel format containing data for Red, Green, Blue, and an Alpha value. Where Alpha Represents the Opacity"
   ]
  },
  {
   "cell_type": "markdown",
   "id": "503c8466",
   "metadata": {},
   "source": [
    "### 2. From the Pillow module, how do you get the RGBA value of any images?"
   ]
  },
  {
   "cell_type": "markdown",
   "id": "12ff905f",
   "metadata": {},
   "source": [
    "Ans: ImageColor.getcolor() gives rgba value of any image"
   ]
  },
  {
   "cell_type": "code",
   "execution_count": null,
   "id": "5c2638f8",
   "metadata": {},
   "outputs": [],
   "source": [
    "from PIL import ImageColor\n",
    "ImageColor.getcolor('red', 'RGBA')\n",
    "ImageColor.getcolor('blue', 'RGBA')\n",
    "    "
   ]
  },
  {
   "cell_type": "markdown",
   "id": "71f1c10e",
   "metadata": {},
   "source": [
    "### 3. What is a box tuple, and how does it work?"
   ]
  },
  {
   "cell_type": "markdown",
   "id": "a25d50ad",
   "metadata": {},
   "source": [
    "Ans: A box tuple is a tuple value of four integers: the left edge x-coordinate, the top edge y-coordinate, the width, and the height, respectively"
   ]
  },
  {
   "cell_type": "markdown",
   "id": "d8d1ebf4",
   "metadata": {},
   "source": [
    "### 4. Use your image and load in notebook then, How can you find out the width and height of an Image object?"
   ]
  },
  {
   "cell_type": "code",
   "execution_count": null,
   "id": "3744902b",
   "metadata": {},
   "outputs": [],
   "source": [
    "# Code:-\n",
    "from PIL import Image\n",
    "pic = Image.open('Pic.jpg')\n",
    "print(f'Width, Height -> {pic.size}')"
   ]
  },
  {
   "cell_type": "markdown",
   "id": "76c6e8ea",
   "metadata": {},
   "source": [
    "### 5. What method would you call to get Image object for a 100×100 image, excluding the lower-left quarter of it?"
   ]
  },
  {
   "cell_type": "code",
   "execution_count": null,
   "id": "5c64171e",
   "metadata": {},
   "outputs": [],
   "source": [
    "from PIL import Image\n",
    "img = Image.open('Pic.jpg')\n",
    "new_img = img.crop((0,50,50,50))"
   ]
  },
  {
   "cell_type": "markdown",
   "id": "442b8906",
   "metadata": {},
   "source": [
    "### 6. After making changes to an Image object, how could you save it as an image file?"
   ]
  },
  {
   "cell_type": "markdown",
   "id": "63bb6acf",
   "metadata": {},
   "source": [
    "Ans. By Calling the imageObj.save('new_filename.png') method of the Image object.\n"
   ]
  },
  {
   "cell_type": "code",
   "execution_count": null,
   "id": "3a26859c",
   "metadata": {},
   "outputs": [],
   "source": [
    "\n",
    "# Code:-\n",
    "from PIL import Image\n",
    "pic = Image.open('pic.jpg')\n",
    "pic.save('pic2.jpg')\n"
   ]
  },
  {
   "cell_type": "markdown",
   "id": "60ebf5bd",
   "metadata": {},
   "source": [
    "### 7. What module contains Pillow’s shape-drawing code?"
   ]
  },
  {
   "cell_type": "markdown",
   "id": "60957508",
   "metadata": {},
   "source": [
    "Ans: Pillows ImageDraw module contains Shape drawing methods\n"
   ]
  },
  {
   "cell_type": "markdown",
   "id": "9f763af5",
   "metadata": {},
   "source": [
    "### 8. Image objects do not have drawing methods. What kind of object does? How do you get this kind of object?"
   ]
  },
  {
   "cell_type": "markdown",
   "id": "9035cb34",
   "metadata": {},
   "source": [
    "Ans: ImageDraw objects have shape-drawing methods such as point(), line(), or rectangle().They are returned by passing the Image object to the ImageDraw.Draw() function."
   ]
  }
 ],
 "metadata": {
  "kernelspec": {
   "display_name": "Python 3 (ipykernel)",
   "language": "python",
   "name": "python3"
  },
  "language_info": {
   "codemirror_mode": {
    "name": "ipython",
    "version": 3
   },
   "file_extension": ".py",
   "mimetype": "text/x-python",
   "name": "python",
   "nbconvert_exporter": "python",
   "pygments_lexer": "ipython3",
   "version": "3.9.7"
  }
 },
 "nbformat": 4,
 "nbformat_minor": 5
}
