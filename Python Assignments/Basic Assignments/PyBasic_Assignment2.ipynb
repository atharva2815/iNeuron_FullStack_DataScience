{
 "cells": [
  {
   "cell_type": "markdown",
   "id": "20c45dd6",
   "metadata": {},
   "source": [
    "# Assignment 2"
   ]
  },
  {
   "cell_type": "markdown",
   "id": "06dff19a",
   "metadata": {},
   "source": [
    "Q1) What are the two values of the Boolean data type? How do you write them?\n",
    "\n"
   ]
  },
  {
   "cell_type": "code",
   "execution_count": 1,
   "id": "238f3117",
   "metadata": {},
   "outputs": [
    {
     "name": "stdout",
     "output_type": "stream",
     "text": [
      "False\n",
      "True\n"
     ]
    }
   ],
   "source": [
    "# Ans:- The two values of Boolean data type are: TRUE and FALSE\n",
    "a = 0\n",
    "print(bool(a))\n",
    "b = 1\n",
    "print(bool(b))\n",
    "\n",
    "# For 0 boolean value is FALSE  and For 1 boolean value is TRUE"
   ]
  },
  {
   "cell_type": "markdown",
   "id": "526a37af",
   "metadata": {},
   "source": [
    "Q2) What are the three different type of Boolean Operator?\n"
   ]
  },
  {
   "cell_type": "code",
   "execution_count": null,
   "id": "6e668cc8",
   "metadata": {},
   "outputs": [],
   "source": [
    "AND , OR , NOT are the three different types of Boolean Operator\n",
    "\n",
    "In AND Opertor If any input value is FALSE it return FAlSE else returns TRUE.\n",
    "In OR Opertor If any input value is TRUE it return TRUE else returns FALSE.\n",
    "In NOT Operator If input is TRUE then it will return FALSE and If input is FALSE it will return TRUE.\n"
   ]
  },
  {
   "cell_type": "markdown",
   "id": "43a19416",
   "metadata": {},
   "source": [
    "Q3) Make a list of each Boolean operator's truth tables i.e. every possible combination of Boolean values for the operator and what it evaluate."
   ]
  },
  {
   "cell_type": "code",
   "execution_count": null,
   "id": "ffd82b2f",
   "metadata": {},
   "outputs": [],
   "source": [
    "And :\n",
    "TRUE   TRUE   =  TRUE\n",
    "TRUE   FALSE  =  FALSE\n",
    "FALSE  TRUE   =  FALSE\n",
    "FALSE  FALSE  =  FALSE\n",
    "\n",
    "OR :\n",
    "TRUE   TRUE   =  TRUE\n",
    "TRUE   FALSE  =  TRUE\n",
    "FALSE  TRUE   =  TRUE\n",
    "FALSE  FALSE  =  FALSE\n",
    "\n",
    "NOT:\n",
    "TRUE  =  FALSE\n",
    "FALSE  =  TRUE"
   ]
  },
  {
   "cell_type": "markdown",
   "id": "91b3ed13",
   "metadata": {},
   "source": [
    "Q4) What are the values of the following expressions?"
   ]
  },
  {
   "cell_type": "code",
   "execution_count": 3,
   "id": "de9be245",
   "metadata": {},
   "outputs": [
    {
     "data": {
      "text/plain": [
       "False"
      ]
     },
     "execution_count": 3,
     "metadata": {},
     "output_type": "execute_result"
    }
   ],
   "source": [
    "a = (5>4) and (3==5)\n",
    "a"
   ]
  },
  {
   "cell_type": "code",
   "execution_count": 4,
   "id": "69363ac5",
   "metadata": {},
   "outputs": [
    {
     "data": {
      "text/plain": [
       "False"
      ]
     },
     "execution_count": 4,
     "metadata": {},
     "output_type": "execute_result"
    }
   ],
   "source": [
    "b = not (5>4)\n",
    "b"
   ]
  },
  {
   "cell_type": "code",
   "execution_count": 5,
   "id": "0af92d83",
   "metadata": {},
   "outputs": [
    {
     "data": {
      "text/plain": [
       "True"
      ]
     },
     "execution_count": 5,
     "metadata": {},
     "output_type": "execute_result"
    }
   ],
   "source": [
    "c = (5>4) or (3==5)\n",
    "c"
   ]
  },
  {
   "cell_type": "code",
   "execution_count": 6,
   "id": "34ad8381",
   "metadata": {},
   "outputs": [
    {
     "data": {
      "text/plain": [
       "False"
      ]
     },
     "execution_count": 6,
     "metadata": {},
     "output_type": "execute_result"
    }
   ],
   "source": [
    "d = not((5>4) or (3==5))\n",
    "d"
   ]
  },
  {
   "cell_type": "code",
   "execution_count": 7,
   "id": "c1d5548b",
   "metadata": {},
   "outputs": [
    {
     "data": {
      "text/plain": [
       "False"
      ]
     },
     "execution_count": 7,
     "metadata": {},
     "output_type": "execute_result"
    }
   ],
   "source": [
    "e = (True and True) and (True == False)\n",
    "e"
   ]
  },
  {
   "cell_type": "code",
   "execution_count": 9,
   "id": "70635823",
   "metadata": {},
   "outputs": [
    {
     "data": {
      "text/plain": [
       "True"
      ]
     },
     "execution_count": 9,
     "metadata": {},
     "output_type": "execute_result"
    }
   ],
   "source": [
    "f = (not False) or (not True)\n",
    "f"
   ]
  },
  {
   "cell_type": "markdown",
   "id": "a54dcc59",
   "metadata": {},
   "source": [
    "Q5 What are the six comparison operators?"
   ]
  },
  {
   "cell_type": "code",
   "execution_count": null,
   "id": "f40f22f8",
   "metadata": {},
   "outputs": [],
   "source": [
    "#comparison operators include    ==,  >,  < ,  >=, <= , !=\n",
    "i = 5\n",
    "print(i == 5)     \n",
    "print(i != 5)     \n",
    "print(i > 5)     \n",
    "print(i >= 5)     \n",
    "print(i < 5)     \n",
    "print(i <= 5)    \n"
   ]
  },
  {
   "cell_type": "markdown",
   "id": "16e65d74",
   "metadata": {},
   "source": [
    "Q6) How do you tell the difference between the equal to and assignment operators? "
   ]
  },
  {
   "cell_type": "code",
   "execution_count": null,
   "id": "9829fa06",
   "metadata": {},
   "outputs": [],
   "source": [
    "Equal to operator is used to do comparision between the two values.\n",
    "Assingment operator is used to assign the varaible to the Value.\n"
   ]
  },
  {
   "cell_type": "markdown",
   "id": "a3cbbb48",
   "metadata": {},
   "source": [
    "Q7) Identifying the three blocks in the code:\n",
    "    "
   ]
  },
  {
   "cell_type": "code",
   "execution_count": 12,
   "id": "009a41ce",
   "metadata": {},
   "outputs": [
    {
     "name": "stdout",
     "output_type": "stream",
     "text": [
      "sapm\n",
      "spam\n",
      "spam\n"
     ]
    }
   ],
   "source": [
    "spam = 0\n",
    "if spam == 10:\n",
    "    print('eggs')\n",
    "if spam > 5:\n",
    "    print('bacon')\n",
    "else:\n",
    "    print('sapm')\n",
    "    print('spam')\n",
    "    print('spam')"
   ]
  },
  {
   "cell_type": "markdown",
   "id": "fbef7ffd",
   "metadata": {},
   "source": [
    "Q8) Write code that prints Hello if 1 is stored in spam, prints Howdy if 2 is stored in spam, and prints\n",
    "Greetings! if anything else is stored in spam."
   ]
  },
  {
   "cell_type": "code",
   "execution_count": 16,
   "id": "f965033c",
   "metadata": {},
   "outputs": [
    {
     "name": "stdout",
     "output_type": "stream",
     "text": [
      "6\n",
      "Greetings\n"
     ]
    }
   ],
   "source": [
    "spam = int(input())\n",
    "if spam == 1:\n",
    "    print('Hello')\n",
    "elif spam == 2:\n",
    "    print('Howdy')\n",
    "else:\n",
    "    print('Greetings')"
   ]
  },
  {
   "cell_type": "markdown",
   "id": "939527c9",
   "metadata": {},
   "source": [
    "Q9)If your programme is stuck in an endless loop, what keys you’ll press?"
   ]
  },
  {
   "cell_type": "code",
   "execution_count": null,
   "id": "2c86682a",
   "metadata": {},
   "outputs": [],
   "source": [
    "Ctrl + C"
   ]
  },
  {
   "cell_type": "markdown",
   "id": "7c311f5e",
   "metadata": {},
   "source": [
    "Q10) How can you tell the difference between break and continue?"
   ]
  },
  {
   "cell_type": "code",
   "execution_count": null,
   "id": "a9311034",
   "metadata": {},
   "outputs": [],
   "source": [
    "Break statement terminates the execution of the current loop and continue keyword skips the current iteration and executes the very next iteration in the loop"
   ]
  },
  {
   "cell_type": "markdown",
   "id": "e3a2b0b9",
   "metadata": {},
   "source": [
    "Q11) In a for loop, what is the difference between range(10), range(0, 10), and range(0, 10, 1)?"
   ]
  },
  {
   "cell_type": "code",
   "execution_count": null,
   "id": "9f714572",
   "metadata": {},
   "outputs": [],
   "source": [
    "# Ans: There is no differance between these range function. they are just wriiten in the different forms but output is same for all."
   ]
  },
  {
   "cell_type": "markdown",
   "id": "4662321a",
   "metadata": {},
   "source": [
    "Q12. Write a short program that prints the numbers 1 to 10 using a for loop. Then write an equivalent\n",
    "program that prints the numbers 1 to 10 using a while loop."
   ]
  },
  {
   "cell_type": "code",
   "execution_count": 21,
   "id": "da58075f",
   "metadata": {},
   "outputs": [
    {
     "name": "stdout",
     "output_type": "stream",
     "text": [
      "1\n",
      "2\n",
      "3\n",
      "4\n",
      "5\n",
      "6\n",
      "7\n",
      "8\n",
      "9\n",
      "10\n"
     ]
    }
   ],
   "source": [
    "for i in range(1,11):\n",
    "    print(i)"
   ]
  },
  {
   "cell_type": "code",
   "execution_count": 23,
   "id": "f216422b",
   "metadata": {},
   "outputs": [
    {
     "name": "stdout",
     "output_type": "stream",
     "text": [
      "1\n",
      "2\n",
      "3\n",
      "4\n",
      "5\n",
      "6\n",
      "7\n",
      "8\n",
      "9\n",
      "10\n"
     ]
    }
   ],
   "source": [
    "i = 1\n",
    "while(i<=10):\n",
    "    print(i)\n",
    "    i = i + 1"
   ]
  },
  {
   "cell_type": "code",
   "execution_count": null,
   "id": "c902d3c2",
   "metadata": {},
   "outputs": [],
   "source": []
  }
 ],
 "metadata": {
  "kernelspec": {
   "display_name": "Python 3 (ipykernel)",
   "language": "python",
   "name": "python3"
  },
  "language_info": {
   "codemirror_mode": {
    "name": "ipython",
    "version": 3
   },
   "file_extension": ".py",
   "mimetype": "text/x-python",
   "name": "python",
   "nbconvert_exporter": "python",
   "pygments_lexer": "ipython3",
   "version": "3.9.7"
  }
 },
 "nbformat": 4,
 "nbformat_minor": 5
}
