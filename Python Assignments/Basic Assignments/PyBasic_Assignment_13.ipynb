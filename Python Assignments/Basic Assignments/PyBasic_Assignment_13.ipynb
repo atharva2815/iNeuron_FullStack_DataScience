{
 "cells": [
  {
   "cell_type": "markdown",
   "id": "9c177653",
   "metadata": {},
   "source": [
    "# Assignment 13"
   ]
  },
  {
   "cell_type": "markdown",
   "id": "c7373f37",
   "metadata": {},
   "source": [
    "### 1. What advantages do Excel spreadsheets have over CSV spreadsheets?"
   ]
  },
  {
   "cell_type": "markdown",
   "id": "85d5cf01",
   "metadata": {},
   "source": [
    "Ans:- The Advantages of Excel over CSV are:\n",
    "        \n",
    "Excel (XLS and XLSX) file formats are better for storing and analysing complex data.\n",
    "An Excel not only stores data but can also do operations on the data using macros, formulas etc\n",
    "CSV files are plain-text files, Does not contain formatting, formulas, macros, etc. It is also known as flat files"
   ]
  },
  {
   "cell_type": "markdown",
   "id": "debaa7a9",
   "metadata": {},
   "source": [
    "### 2.What do you pass to csv.reader() and csv.writer() to create reader and writer objects?"
   ]
  },
  {
   "cell_type": "code",
   "execution_count": null,
   "id": "f7d8d0e7",
   "metadata": {},
   "outputs": [],
   "source": [
    "import csv\n",
    "with open('text.csv','r') as file:\n",
    "    csv_file = csv.reader(file,delimiter=',')\n",
    "    for read in csv_file:\n",
    "        print(read)\n"
   ]
  },
  {
   "cell_type": "markdown",
   "id": "8b496813",
   "metadata": {},
   "source": [
    "### 3. What modes do File objects for reader and writer objects need to be opened in?"
   ]
  },
  {
   "cell_type": "markdown",
   "id": "3499e65b",
   "metadata": {},
   "source": [
    "Ans: File objects need to be opened in read-binary ('rb') for Reader objects and write-binary ('wb') for Writer objects"
   ]
  },
  {
   "cell_type": "markdown",
   "id": "7ce9489e",
   "metadata": {},
   "source": [
    "### 4. What method takes a list argument and writes it to a CSV file?"
   ]
  },
  {
   "cell_type": "markdown",
   "id": "b8a9a73a",
   "metadata": {},
   "source": [
    "Ans:  csv.writer class provides two methods for writing to CSV. They are writerow() and writerows(). writerow() method writes a single row at a time. Whereas writerows() method is used to write multiple rows at a time."
   ]
  },
  {
   "cell_type": "code",
   "execution_count": null,
   "id": "a0e9f98c",
   "metadata": {},
   "outputs": [],
   "source": [
    "# Code:- \n",
    "import csv      \n",
    "fields = ['Student Name', 'Year', 'Branch', 'CGPA'] #column names \n",
    "rows = [ \n",
    "            ['Saurabh', 'DataScience', '2', '9.0'],  # data rows of csv file \n",
    "            ['Raj', 'ComputerScience', '2', '9.1'], \n",
    "            ['Yash', 'ENTC', '2', '9.3']\n",
    "       ] \n",
    "with open(\"university_records.csv\", 'w') as csvfile: \n",
    "    csvwriter = csv.writer(csvfile) # creating a csv writer object \n",
    "    csvwriter.writerow(fields) # writing the fields \n",
    "    csvwriter.writerows(rows) # writing the data rows \n"
   ]
  },
  {
   "cell_type": "markdown",
   "id": "597b7086",
   "metadata": {},
   "source": [
    "### 5. What do the keyword arguments delimiter and line terminator do?"
   ]
  },
  {
   "cell_type": "markdown",
   "id": "623fa1bb",
   "metadata": {},
   "source": [
    "Ans: ',' is Delimiter. We can use any Character as per our needs if required. The delimiter argument changes the string used to separate cells in a row.\n",
    "The line terminator argument changes the string used to separate rows. It comes at end of line by default it is newline and can be changed accourding to Requirement."
   ]
  },
  {
   "cell_type": "markdown",
   "id": "54849735",
   "metadata": {},
   "source": [
    "### 6. What function takes a string of JSON data and returns a Python data structure?"
   ]
  },
  {
   "cell_type": "markdown",
   "id": "6e0ddd21",
   "metadata": {},
   "source": [
    "Ans. json.loads() method takes a string of JSON data and returns a Python data structure"
   ]
  },
  {
   "cell_type": "markdown",
   "id": "a59e885e",
   "metadata": {},
   "source": [
    "### 7. What function takes a Python data structure and returns a string of JSON data?"
   ]
  },
  {
   "cell_type": "markdown",
   "id": "43d2c421",
   "metadata": {},
   "source": [
    "Ans: dumps() method takes a python data structure and returns a string of JSON data"
   ]
  },
  {
   "cell_type": "code",
   "execution_count": null,
   "id": "5e7973a0",
   "metadata": {},
   "outputs": [],
   "source": []
  }
 ],
 "metadata": {
  "kernelspec": {
   "display_name": "Python 3 (ipykernel)",
   "language": "python",
   "name": "python3"
  },
  "language_info": {
   "codemirror_mode": {
    "name": "ipython",
    "version": 3
   },
   "file_extension": ".py",
   "mimetype": "text/x-python",
   "name": "python",
   "nbconvert_exporter": "python",
   "pygments_lexer": "ipython3",
   "version": "3.9.7"
  }
 },
 "nbformat": 4,
 "nbformat_minor": 5
}
